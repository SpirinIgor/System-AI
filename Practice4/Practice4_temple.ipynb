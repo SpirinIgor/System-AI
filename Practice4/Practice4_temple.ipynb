{
 "cells": [
  {
   "cell_type": "markdown",
   "metadata": {},
   "source": [
    "# Практическая работа №4\n",
    "## Тема: «Линейная регрессия»\n",
    "### Выполнил студент: ???\n",
    "#### ВАРИАНТ: (ваш dataset [название, ссылка])\n"
   ]
  },
  {
   "attachments": {
    "image.png": {
     "image/png": "[encoded data removed]"
    }
   },
   "cell_type": "markdown",
   "metadata": {},
   "source": [
    "### Линейная регрессия\n",
    "\n",
    "Линейная регрессия используется для прогнозирования непрерывной переменной (зависимой переменной) на основе одной или нескольких независимых переменных. Она строит линейную зависимость между независимыми и зависимой переменными, что позволяет предсказывать значение зависимой переменной на основе значений независимых переменных.\n",
    "\n",
    "Линейная регрессия в машинном обучении — это статистический метод, который используется для прогнозирования значения одной переменной (зависимой) на основе значений одной или нескольких других переменных (независимых). Этот метод основан на построении линейной зависимости между независимыми и зависимой переменными, что позволяет моделировать взаимосвязь между ними и делать прогнозы на основе новых данных.\n",
    "\n",
    "#### Принципы Линейной Регрессии\n",
    "\n",
    "**Линейная зависимость:** Предполагается, что между независимыми и зависимой переменными существует линейная зависимость. Это означает, что изменение в независимой переменной приводит к прямо пропорциональному изменению в зависимой переменной.\n",
    "Остаточная независимость: Остатки (разница между наблюдаемыми и прогнозируемыми значениями) не должны иметь идентифицируемой закономерности. Это помогает избежать выбросов и обеспечивает точность модели.\n",
    "\n",
    "**Гомоскедастичность:** Предполагается, что невязки имеют постоянную дисперсию или стандартное отклонение от среднего для каждого значения независимой переменной. Это помогает обеспечить стабильность и надежность прогнозов.\n",
    "\n",
    "**Нормальность:** Предполагается, что невязки распределены нормально. Это помогает в интерпретации результатов и проверке гипотез.\n",
    "\n",
    "**Основные характеристики линейной регрессии:**\n",
    "\n",
    "- **Цель:** Прогнозирование непрерывной переменной.\n",
    "- **Модель:** Линейная функция независимых переменных.\n",
    "- **Применение:** Простой анализ и предсказание линейных данных и трендов. Работа с переменными, линейно зависящими от одной-двух-трех других переменных. Используется в экономике, биологии, социологии и других областях для прогнозирования.\n",
    "\n",
    "    - **Прогнозирование цен на недвижимость:** Используя данные о площади, количестве комнат, расположении и других факторах, можно прогнозировать цену на продажу дома.\n",
    "\n",
    "    - **Анализ влияния температуры на урожай:** Исходя из исторических данных о температуре и урожае, можно оценить, как изменение температуры влияет на урожай.\n",
    "\n",
    "    - **Прогнозирование заболеваний:** Используя данные о пациенте, такие как возраст, пол, медицинская история, можно прогнозировать вероятность развития определенного заболевания.\n",
    "\n",
    "- **Плюсы:** Очень простая и интуитивная модель машинного обучения. Проста в реализации, быстра в работе.\n",
    "\n",
    "- **Минусы:** Хорошо работает только на очень простых зависимостях. Плохо предсказывает сложные зависимости.\n",
    "\n",
    "Если у вас есть последовательность чисел [10, 20, 30, 40, 50, x], то линейная регрессия легко предскажет, что на месте x должно быть число 60. Этот алгоритм предсказывает простые линейные зависимости в данных и значения в рамках трендов.\n",
    "\n",
    "![image.png](attachment:image.png)\n",
    "\n",
    "\n",
    "\n",
    "Для демонстрации применения линейной регрессии можно использовать следующий пример кода на Python с использованием библиотеки scikit-learn:"
   ]
  },
  {
   "cell_type": "code",
   "execution_count": null,
   "metadata": {},
   "outputs": [],
   "source": [
    "from sklearn.linear_model import LinearRegression\n",
    "from sklearn.model_selection import train_test_split\n",
    "import numpy as np\n",
    "\n",
    "from sklearn.metrics import accuracy_score, recall_score, f1_score\n",
    "\n",
    "import warnings\n",
    "# Игнорировать все предупреждения\n",
    "warnings.filterwarnings('ignore')\n",
    "\n",
    "# Пример данных\n",
    "X = np.array([[1, 1], [1, 2], [2, 2], [2, 3]]) # Независимые переменные\n",
    "y = np.dot(X, np.array([1, 2])) + 3 # Зависимая переменная\n",
    "\n",
    "# Разделение данных на обучающую и тестовую выборки\n",
    "X_train, X_test, y_train, y_test = train_test_split(X, y, test_size=0.2, random_state=0)\n",
    "\n",
    "# Создание и обучение модели линейной регрессии\n",
    "model = LinearRegression()\n",
    "model.fit(X_train, y_train)\n",
    "\n",
    "# Прогнозирование на тестовых данных\n",
    "y_pred = model.predict(X_test)\n",
    "\n",
    "# Вывод коэффициентов модели\n",
    "print(\"Коэффициенты модели:\", model.coef_)\n",
    "print(\"Свободный член модели:\", model.intercept_)\n",
    "\n",
    "# Оценка модели\n",
    "accuracy = accuracy_score(y_test, y_pred)\n",
    "recall = recall_score(y_test, y_pred)\n",
    "f1 = f1_score(y_test, y_pred)\n",
    "\n",
    "print(f\"Accuracy: {accuracy}\")\n",
    "print(f\"Recall: {recall}\")\n",
    "print(f\"F1 Score: {f1}\")\n"
   ]
  },
  {
   "cell_type": "markdown",
   "metadata": {},
   "source": [
    "**Коэффициенты модели.** В контексте линейной регрессии, коэффициенты модели также играют ключевую роль, но они интерпретируются немного иначе, поскольку линейная регрессия предсказывает непрерывную переменную, а не категориальную. Коэффициенты линейной регрессии показывают, насколько сильно каждый признак влияет на предсказанное значение.\n",
    "\n",
    "Коэффициенты линейной регрессии помогают понять, какие признаки наиболее важны для предсказания целевой переменной. Это может быть полезно для интерпретации модели и выбора признаков для дальнейшего анализа или для создания новых признаков.\n",
    "\n",
    "**Свободный член.** Свободный член (или смещение) в модели линейной регрессии представляет собой константу, которая добавляется к линейной комбинации признаков для получения предсказанного значения. В контексте линейной регрессии, свободный член позволяет модели быть смещенной относительно оси Y, что особенно важно, когда данные не проходят через начало координат (0,0).\n",
    "\n",
    "В библиотеке scikit-learn, свободный член модели линейной регрессии можно получить с помощью атрибута intercept_ обученной модели.Свободный член модели показывает, насколько сильно модель смещена относительно оси Y. Если свободный член положительный, это означает, что модель смещена вверх относительно оси Y. Если свободный член отрицательный, модель смещена вниз относительно оси Y. Свободный член играет важную роль в интерпретации модели линейной регрессии, позволяя нам понять базовый уровень предсказанного значения, когда все признаки равны нулю.\n",
    "\n",
    "Точность (Accuracy)\n",
    "Точность измеряет, какую долю предсказаний модель сделала правильно. Она рассчитывается как отношение числа правильных предсказаний к общему числу предсказаний.\n",
    "\n",
    "Полнота (Recall)\n",
    "Полнота измеряет, какую долю положительных примеров модель смогла правильно идентифицировать. Она рассчитывается как отношение числа истинно положительных результатов к сумме истинно положительных и ложно отрицательных результатов.\n",
    "\n",
    "F1-мера (F1 Score)\n",
    "F1-мера является средним между точностью и полнотой и используется для оценки моделей, где важно найти баланс между этими двумя метриками. Она рассчитывается как дважды произведение отношения точности и полноты к сумме точности и полноты.\n",
    "\n",
    "Эти метрики помогают оценить, насколько хорошо модель может предсказывать выживание пассажиров на \"Титанике\" на основе предоставленных признаков, учитывая как правильность предсказаний, так и способность модели идентифицировать положительные примеры."
   ]
  },
  {
   "cell_type": "markdown",
   "metadata": {},
   "source": [
    "#### Задание 1. Загрузить данные из dataset \"Титаник\" "
   ]
  },
  {
   "cell_type": "code",
   "execution_count": null,
   "metadata": {},
   "outputs": [],
   "source": []
  },
  {
   "cell_type": "markdown",
   "metadata": {},
   "source": [
    "#### Задание 2. Произвести предобработку данных dataset \"Титаник\" и сохранить результаты каждый в отдельный датафрейм\n",
    "1. Удалить все путые заначения и сохранить результаты в датафрейм df_del\n",
    "2. Замена на конкретное значение все путые  и сохранить результаты в датафрейм df_num\n",
    "3. Заменить все путые заначения на среднее значение и сохранить результаты в датафрейм df_means\n",
    "4. Заменить все путые заначения на медеанные значение и сохранить результаты в датафрейм df_medians\n",
    "5. Замена на предыдущее или следующее значение и сохранить результаты в датафрейм df_fb_fill"
   ]
  },
  {
   "cell_type": "code",
   "execution_count": null,
   "metadata": {},
   "outputs": [],
   "source": []
  },
  {
   "cell_type": "markdown",
   "metadata": {},
   "source": [
    "#### Задание 3. Приметить к каждому датафрейму алгоритм линейной регресси"
   ]
  },
  {
   "cell_type": "code",
   "execution_count": null,
   "metadata": {},
   "outputs": [],
   "source": []
  },
  {
   "cell_type": "markdown",
   "metadata": {},
   "source": [
    "#### Задание 4. Произвести оценку обученности модели разными метриками\n",
    "1. accuracy\n",
    "2. recall\n",
    "3. Precision \n",
    "4. F1-Score"
   ]
  },
  {
   "cell_type": "markdown",
   "metadata": {},
   "source": [
    "#### Задание 5. Определить наиболее эффективную метрику"
   ]
  },
  {
   "cell_type": "code",
   "execution_count": null,
   "metadata": {},
   "outputs": [],
   "source": []
  },
  {
   "cell_type": "markdown",
   "metadata": {},
   "source": [
    "#### Задание 6. Загрузить ваш dataset и произвести его описание\n"
   ]
  },
  {
   "cell_type": "code",
   "execution_count": null,
   "metadata": {},
   "outputs": [],
   "source": []
  },
  {
   "cell_type": "markdown",
   "metadata": {},
   "source": [
    "#### Задание 7. Произвести предобработку вашего dataset  и сохранить результаты каждый в отдельный датафрейм\n",
    "1. Удалить все путые заначения и сохранить результаты в датафрейм mydf_del\n",
    "2. Замена на конкретное значение все путые  и сохранить результаты в датафрейм mydf_num\n",
    "3. Заменить все путые заначения на среднее значение и сохранить результаты в датафрейм mydf_means\n",
    "4. Заменить все путые заначения на медеанные значение и сохранить результаты в датафрейм mydf_medians\n",
    "5. Замена на предыдущее или следующее значение и сохранить результаты в датафрейм mydf_fb_fill"
   ]
  },
  {
   "cell_type": "code",
   "execution_count": null,
   "metadata": {},
   "outputs": [],
   "source": []
  },
  {
   "cell_type": "markdown",
   "metadata": {},
   "source": [
    "#### Задание 8. Приметить к каждому датафрейму алгоритм линейной регресси"
   ]
  },
  {
   "cell_type": "code",
   "execution_count": null,
   "metadata": {},
   "outputs": [],
   "source": []
  },
  {
   "cell_type": "markdown",
   "metadata": {},
   "source": [
    "#### Задание 9. Произвести оценку обученности модели разными метриками\n",
    "1. accuracy\n",
    "2. recall\n",
    "3. Precision \n",
    "4. F1-Score"
   ]
  },
  {
   "cell_type": "code",
   "execution_count": null,
   "metadata": {},
   "outputs": [],
   "source": []
  },
  {
   "cell_type": "markdown",
   "metadata": {},
   "source": [
    "#### Задание 10. Определить наиболее эффективную метрику"
   ]
  },
  {
   "cell_type": "code",
   "execution_count": null,
   "metadata": {},
   "outputs": [],
   "source": []
  }
 ],
 "metadata": {
  "kernelspec": {
   "display_name": "Python 3",
   "language": "python",
   "name": "python3"
  },
  "language_info": {
   "codemirror_mode": {
    "name": "ipython",
    "version": 3
   },
   "file_extension": ".py",
   "mimetype": "text/x-python",
   "name": "python",
   "nbconvert_exporter": "python",
   "pygments_lexer": "ipython3",
   "version": "3.6.6"
  }
 },
 "nbformat": 4,
 "nbformat_minor": 4
}
