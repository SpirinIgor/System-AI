{
 "cells": [
  {
   "cell_type": "markdown",
   "metadata": {},
   "source": [
    "# Практическая работа №5 \n",
    "## Тема: «Логистическая регрессия»\n",
    "### Выполнил студент: ???\n",
    "#### ВАРИАНТ: (ваш dataset [название, ссылка])\n"
   ]
  },
  {
   "attachments": {
    "image.png": {
     "image/png": "[encoded data removed]"
    }
   },
   "cell_type": "markdown",
   "metadata": {},
   "source": [
    "Линейная регрессия и логистическая регрессия являются двумя популярными статистическими методами, используемыми для анализа данных. Они оба используются для прогнозирования значений на основе набора входных данных, но они применяются в разных контекстах и имеют разные цели.\n",
    "\n",
    "\n",
    "### Логистическая регрессия\n",
    "\n",
    "Простейший алгоритм классификации, пришел к нам из мира статистики. Позволяет разделять на два класса несложные объекты, чье состояние управляется и описывается небольшим числом параметров.\n",
    "\n",
    "Логистическая регрессия выдает ответ в виде числа в промежутке от 0 до 1. Если число ниже определенного порога значения — то объект относится к первому классу объектов, а если выше — то ко второму. Калибровка порогового значения для разделения объектов на классы подбирается в ходе калибровки алгоритма.Логистическая регрессия, с другой стороны, используется для прогнозирования вероятности возникновения события на основе одного или нескольких независимых переменных. Она строит логистическую кривую, которая представляет собой S-образную кривую, используемую для моделирования вероятности.\n",
    "\n",
    "**Основные характеристики логистической регрессии:**\n",
    "\n",
    "- **Цель:** Прогнозирование вероятности возникновения события.\n",
    "- **Модель:** Логистическая функция независимых переменных.\n",
    "- **Применение:** Там, где требуется несложная классификация малого числа объектов на малое число классов. Используется в статистике, экономике, социологии и других областях для прогнозирования вероятности.\n",
    "\n",
    "- **Плюсы.** Скорость и наглядность.\n",
    "\n",
    "- **Минусы.** Может классифицировать только относительно простые объекты. Не подходит для разделения объектов на несколько классов, ответ этого алгоритма — по сути, двоичный сигнал типа «да-нет».\n",
    "\n",
    "![image.png](attachment:image.png)\n",
    "\n",
    "\n",
    "\n",
    "\n",
    "### Отличия\n",
    "\n",
    "1. **Цель прогнозирования:** Линейная регрессия предназначена для прогнозирования непрерывных значений, в то время как логистическая регрессия используется для прогнозирования вероятности возникновения события.\n",
    "\n",
    "2. **Функция модели:** Линейная регрессия использует линейную функцию для моделирования, в то время как логистическая регрессия использует логистическую функцию.\n",
    "\n",
    "3. **Применение:** Линейная регрессия широко используется в различных областях для прогнозирования непрерывных переменных, в то время как логистическая регрессия часто используется в статистике и социологии для прогнозирования вероятности.\n",
    "\n",
    "4. **Результаты:** Линейная регрессия дает прямое значение зависимой переменной, в то время как логистическая регрессия дает вероятность, что событие произойдет.\n",
    "\n",
    "Выбор между линейной и логистической регрессией зависит от целей анализа и типа данных, с которыми вы работаете."
   ]
  },
  {
   "cell_type": "markdown",
   "metadata": {},
   "source": [
    "В контексте машинного обучения, логистическая регрессия часто используется для бинарной классификации, где цель состоит в том, чтобы предсказать, к какой из двух групп относится объект.\n",
    "\n",
    "Пример Применения Логистической Регрессии на Датасете Титаник Для примера применения логистической регрессии на датасете Титаник, мы можем попытаться предсказать, выживет ли пассажир на Титанике на основе таких признаков, как пол, возраст, класс пассажира и другие."
   ]
  },
  {
   "cell_type": "code",
   "execution_count": null,
   "metadata": {},
   "outputs": [],
   "source": [
    "import numpy as np\n",
    "import pandas as pd\n",
    "from sklearn.model_selection import train_test_split\n",
    "\n",
    "from sklearn.linear_model import LogisticRegression\n",
    "\n",
    "from sklearn.metrics import classification_report, confusion_matrix\n",
    "from sklearn.preprocessing import StandardScaler"
   ]
  },
  {
   "cell_type": "code",
   "execution_count": null,
   "metadata": {},
   "outputs": [],
   "source": [
    "# Загрузка данных\n",
    "#data = pd.read_csv('titanic.csv')\n",
    "\n",
    "# Загрузка датасета\n",
    "url = \"https://raw.githubusercontent.com/datasciencedojo/datasets/master/titanic.csv\"\n",
    "data = pd.read_csv(url)\n",
    "\n",
    "# Обработка пропущенных значений\n",
    "#data = data.dropna()\n",
    "data.Age = data.Age.fillna(data.Age.mean())\n",
    "\n",
    "# Выбор признаков\n",
    "features = data[['Pclass', 'Age', 'Sex']]\n",
    "target = data['Survived']"
   ]
  },
  {
   "cell_type": "code",
   "execution_count": null,
   "metadata": {},
   "outputs": [
    {
     "data": {
      "text/html": [
       "<div>\n",
       "<style scoped>\n",
       "    .dataframe tbody tr th:only-of-type {\n",
       "        vertical-align: middle;\n",
       "    }\n",
       "\n",
       "    .dataframe tbody tr th {\n",
       "        vertical-align: top;\n",
       "    }\n",
       "\n",
       "    .dataframe thead th {\n",
       "        text-align: right;\n",
       "    }\n",
       "</style>\n",
       "<table border=\"1\" class=\"dataframe\">\n",
       "  <thead>\n",
       "    <tr style=\"text-align: right;\">\n",
       "      <th></th>\n",
       "      <th>Pclass</th>\n",
       "      <th>Age</th>\n",
       "      <th>Sex</th>\n",
       "    </tr>\n",
       "  </thead>\n",
       "  <tbody>\n",
       "    <tr>\n",
       "      <th>0</th>\n",
       "      <td>3</td>\n",
       "      <td>22.000000</td>\n",
       "      <td>male</td>\n",
       "    </tr>\n",
       "    <tr>\n",
       "      <th>1</th>\n",
       "      <td>1</td>\n",
       "      <td>38.000000</td>\n",
       "      <td>female</td>\n",
       "    </tr>\n",
       "    <tr>\n",
       "      <th>2</th>\n",
       "      <td>3</td>\n",
       "      <td>26.000000</td>\n",
       "      <td>female</td>\n",
       "    </tr>\n",
       "    <tr>\n",
       "      <th>3</th>\n",
       "      <td>1</td>\n",
       "      <td>35.000000</td>\n",
       "      <td>female</td>\n",
       "    </tr>\n",
       "    <tr>\n",
       "      <th>4</th>\n",
       "      <td>3</td>\n",
       "      <td>35.000000</td>\n",
       "      <td>male</td>\n",
       "    </tr>\n",
       "    <tr>\n",
       "      <th>...</th>\n",
       "      <td>...</td>\n",
       "      <td>...</td>\n",
       "      <td>...</td>\n",
       "    </tr>\n",
       "    <tr>\n",
       "      <th>886</th>\n",
       "      <td>2</td>\n",
       "      <td>27.000000</td>\n",
       "      <td>male</td>\n",
       "    </tr>\n",
       "    <tr>\n",
       "      <th>887</th>\n",
       "      <td>1</td>\n",
       "      <td>19.000000</td>\n",
       "      <td>female</td>\n",
       "    </tr>\n",
       "    <tr>\n",
       "      <th>888</th>\n",
       "      <td>3</td>\n",
       "      <td>29.699118</td>\n",
       "      <td>female</td>\n",
       "    </tr>\n",
       "    <tr>\n",
       "      <th>889</th>\n",
       "      <td>1</td>\n",
       "      <td>26.000000</td>\n",
       "      <td>male</td>\n",
       "    </tr>\n",
       "    <tr>\n",
       "      <th>890</th>\n",
       "      <td>3</td>\n",
       "      <td>32.000000</td>\n",
       "      <td>male</td>\n",
       "    </tr>\n",
       "  </tbody>\n",
       "</table>\n",
       "<p>891 rows × 3 columns</p>\n",
       "</div>"
      ],
      "text/plain": [
       "     Pclass        Age     Sex\n",
       "0         3  22.000000    male\n",
       "1         1  38.000000  female\n",
       "2         3  26.000000  female\n",
       "3         1  35.000000  female\n",
       "4         3  35.000000    male\n",
       "..      ...        ...     ...\n",
       "886       2  27.000000    male\n",
       "887       1  19.000000  female\n",
       "888       3  29.699118  female\n",
       "889       1  26.000000    male\n",
       "890       3  32.000000    male\n",
       "\n",
       "[891 rows x 3 columns]"
      ]
     },
     "execution_count": 11,
     "metadata": {},
     "output_type": "execute_result"
    }
   ],
   "source": [
    "features"
   ]
  },
  {
   "cell_type": "code",
   "execution_count": null,
   "metadata": {},
   "outputs": [
    {
     "data": {
      "text/plain": [
       "<AxesSubplot:>"
      ]
     },
     "execution_count": 12,
     "metadata": {},
     "output_type": "execute_result"
    },
    {
     "data": {
      "image/png": "[encoded data removed]",
      "text/plain": [
       "<Figure size 432x288 with 1 Axes>"
      ]
     },
     "metadata": {
      "needs_background": "light"
     },
     "output_type": "display_data"
    }
   ],
   "source": [
    "features.Age.hist()"
   ]
  },
  {
   "cell_type": "code",
   "execution_count": null,
   "metadata": {},
   "outputs": [],
   "source": [
    "gender_mapping = {'male': 0, 'female': 1}\n",
    "\n",
    "#features = features['Sex'].replace(gender_mapping)\n",
    "features['Sex'] = features['Sex'].map({'male': 0, 'female': 1})"
   ]
  },
  {
   "cell_type": "code",
   "execution_count": null,
   "metadata": {},
   "outputs": [
    {
     "data": {
      "text/html": [
       "<div>\n",
       "<style scoped>\n",
       "    .dataframe tbody tr th:only-of-type {\n",
       "        vertical-align: middle;\n",
       "    }\n",
       "\n",
       "    .dataframe tbody tr th {\n",
       "        vertical-align: top;\n",
       "    }\n",
       "\n",
       "    .dataframe thead th {\n",
       "        text-align: right;\n",
       "    }\n",
       "</style>\n",
       "<table border=\"1\" class=\"dataframe\">\n",
       "  <thead>\n",
       "    <tr style=\"text-align: right;\">\n",
       "      <th></th>\n",
       "      <th>Pclass</th>\n",
       "      <th>Age</th>\n",
       "      <th>Sex</th>\n",
       "    </tr>\n",
       "  </thead>\n",
       "  <tbody>\n",
       "    <tr>\n",
       "      <th>0</th>\n",
       "      <td>3</td>\n",
       "      <td>22.000000</td>\n",
       "      <td>0</td>\n",
       "    </tr>\n",
       "    <tr>\n",
       "      <th>1</th>\n",
       "      <td>1</td>\n",
       "      <td>38.000000</td>\n",
       "      <td>1</td>\n",
       "    </tr>\n",
       "    <tr>\n",
       "      <th>2</th>\n",
       "      <td>3</td>\n",
       "      <td>26.000000</td>\n",
       "      <td>1</td>\n",
       "    </tr>\n",
       "    <tr>\n",
       "      <th>3</th>\n",
       "      <td>1</td>\n",
       "      <td>35.000000</td>\n",
       "      <td>1</td>\n",
       "    </tr>\n",
       "    <tr>\n",
       "      <th>4</th>\n",
       "      <td>3</td>\n",
       "      <td>35.000000</td>\n",
       "      <td>0</td>\n",
       "    </tr>\n",
       "    <tr>\n",
       "      <th>...</th>\n",
       "      <td>...</td>\n",
       "      <td>...</td>\n",
       "      <td>...</td>\n",
       "    </tr>\n",
       "    <tr>\n",
       "      <th>886</th>\n",
       "      <td>2</td>\n",
       "      <td>27.000000</td>\n",
       "      <td>0</td>\n",
       "    </tr>\n",
       "    <tr>\n",
       "      <th>887</th>\n",
       "      <td>1</td>\n",
       "      <td>19.000000</td>\n",
       "      <td>1</td>\n",
       "    </tr>\n",
       "    <tr>\n",
       "      <th>888</th>\n",
       "      <td>3</td>\n",
       "      <td>29.699118</td>\n",
       "      <td>1</td>\n",
       "    </tr>\n",
       "    <tr>\n",
       "      <th>889</th>\n",
       "      <td>1</td>\n",
       "      <td>26.000000</td>\n",
       "      <td>0</td>\n",
       "    </tr>\n",
       "    <tr>\n",
       "      <th>890</th>\n",
       "      <td>3</td>\n",
       "      <td>32.000000</td>\n",
       "      <td>0</td>\n",
       "    </tr>\n",
       "  </tbody>\n",
       "</table>\n",
       "<p>891 rows × 3 columns</p>\n",
       "</div>"
      ],
      "text/plain": [
       "     Pclass        Age  Sex\n",
       "0         3  22.000000    0\n",
       "1         1  38.000000    1\n",
       "2         3  26.000000    1\n",
       "3         1  35.000000    1\n",
       "4         3  35.000000    0\n",
       "..      ...        ...  ...\n",
       "886       2  27.000000    0\n",
       "887       1  19.000000    1\n",
       "888       3  29.699118    1\n",
       "889       1  26.000000    0\n",
       "890       3  32.000000    0\n",
       "\n",
       "[891 rows x 3 columns]"
      ]
     },
     "execution_count": 14,
     "metadata": {},
     "output_type": "execute_result"
    }
   ],
   "source": [
    "features"
   ]
  },
  {
   "cell_type": "code",
   "execution_count": null,
   "metadata": {},
   "outputs": [],
   "source": [
    "# Разделение данных на обучающую и тестовую выборки\n",
    "X_train, X_test, y_train, y_test = train_test_split(features, target, test_size=0.2, random_state=42)\n",
    "\n",
    "# Стандартизация признаков\n",
    "scaler = StandardScaler()\n",
    "X_train = scaler.fit_transform(X_train)\n",
    "X_test = scaler.transform(X_test)"
   ]
  },
  {
   "cell_type": "code",
   "execution_count": null,
   "metadata": {},
   "outputs": [
    {
     "data": {
      "text/plain": [
       "LogisticRegression(random_state=42, solver='liblinear')"
      ]
     },
     "execution_count": 16,
     "metadata": {},
     "output_type": "execute_result"
    }
   ],
   "source": [
    "# Создание и обучение модели\n",
    "model = LogisticRegression(solver='liblinear', random_state=42)\n",
    "model.fit(X_train, y_train)"
   ]
  },
  {
   "cell_type": "code",
   "execution_count": null,
   "metadata": {},
   "outputs": [
    {
     "name": "stdout",
     "output_type": "stream",
     "text": [
      "[[90 15]\n",
      " [20 54]]\n",
      "              precision    recall  f1-score   support\n",
      "\n",
      "           0       0.82      0.86      0.84       105\n",
      "           1       0.78      0.73      0.76        74\n",
      "\n",
      "    accuracy                           0.80       179\n",
      "   macro avg       0.80      0.79      0.80       179\n",
      "weighted avg       0.80      0.80      0.80       179\n",
      "\n"
     ]
    }
   ],
   "source": [
    "# Предсказание на тестовых данных\n",
    "y_pred = model.predict(X_test)\n",
    "\n",
    "# Оценка модели\n",
    "print(confusion_matrix(y_test, y_pred))\n",
    "print(classification_report(y_test, y_pred))"
   ]
  },
  {
   "cell_type": "markdown",
   "metadata": {},
   "source": [
    "Этот пример демонстрирует базовый процесс применения логистической регрессии для бинарной классификации на датасете Титаник. Важно отметить, что выбор признаков и их преобразование могут сильно влиять на результаты модели, поэтому важно проводить эксперименты с различными наборами признаков и методами их обработки."
   ]
  },
  {
   "cell_type": "code",
   "execution_count": null,
   "metadata": {},
   "outputs": [],
   "source": []
  },
  {
   "cell_type": "markdown",
   "metadata": {},
   "source": [
    "**Задача**\n",
    "\n",
    "Определить с какой вероятностью выживет пассажир возростом 25 лет\n",
    "\n",
    "Для решения этой задачи мы будем использовать библиотеку pandas для работы с данными, numpy для математических операций, и sklearn для построения и оценки модели логистической регрессии. В качестве примера датасета мы будем использовать датасет Titanic, который доступен в библиотеке seaborn.\n",
    "\n",
    "Установка необходимых библиотек: \n",
    "\n",
    "Если у вас еще не установлены необходимые библиотеки, вы можете установить их с помощью команды pip install pandas numpy seaborn sklearn.\n",
    "\n",
    "Загрузка и подготовка данных: Загрузим датасет Titanic, отфильтруем его, чтобы оставить только пассажиров возрастом 25 лет, и подготовим данные для обучения модели.\n",
    "Построение и обучение модели: Используем логистическую регрессию из sklearn для обучения модели на подготовленных данных.\n",
    "Оценка модели: Оценим качество модели, используя тестовые данные."
   ]
  },
  {
   "cell_type": "code",
   "execution_count": null,
   "metadata": {},
   "outputs": [
    {
     "name": "stdout",
     "output_type": "stream",
     "text": [
      "Accuracy (выживет с вероятносью:): 0.8\n"
     ]
    }
   ],
   "source": [
    "import pandas as pd\n",
    "import numpy as np\n",
    "from sklearn.model_selection import train_test_split\n",
    "from sklearn.linear_model import LogisticRegression\n",
    "from sklearn.metrics import accuracy_score\n",
    "import seaborn as sns\n",
    "\n",
    "import warnings\n",
    "# Игнорировать все предупреждения\n",
    "warnings.filterwarnings('ignore')\n",
    "\n",
    "# Загрузка датасета Titanic\n",
    "titanic = sns.load_dataset('titanic')\n",
    "\n",
    "# Фильтрация данных для пассажиров возрастом 25 лет\n",
    "titanic_25 = titanic[titanic['age'] == 25]\n",
    "\n",
    "# Подготовка данных: выбор признаков и целевой переменной\n",
    "X = titanic_25[['pclass', 'sex', 'embarked']].dropna()\n",
    "y = titanic_25['survived']\n",
    "\n",
    "# Преобразование категориальных переменных в числовые\n",
    "X['sex'] = X['sex'].map({'male': 0, 'female': 1})\n",
    "X['embarked'] = X['embarked'].map({'S': 0, 'C': 1, 'Q': 2})\n",
    "\n",
    "# Разделение данных на обучающую и тестовую выборки\n",
    "X_train, X_test, y_train, y_test = train_test_split(X, y, test_size=0.2, random_state=42)\n",
    "\n",
    "# Построение и обучение модели\n",
    "model = LogisticRegression()\n",
    "model.fit(X_train, y_train)\n",
    "\n",
    "# Предсказание на тестовых данных\n",
    "y_pred = model.predict(X_test)\n",
    "\n",
    "# Оценка модели\n",
    "accuracy = accuracy_score(y_test, y_pred)\n",
    "print(f\"Accuracy (выживет с вероятносью:): {accuracy}\")\n"
   ]
  },
  {
   "cell_type": "code",
   "execution_count": null,
   "metadata": {},
   "outputs": [
    {
     "name": "stdout",
     "output_type": "stream",
     "text": [
      "Accuracy: 0.8\n",
      "              precision    recall  f1-score   support\n",
      "\n",
      "           0       0.80      1.00      0.89         4\n",
      "           1       0.00      0.00      0.00         1\n",
      "\n",
      "    accuracy                           0.80         5\n",
      "   macro avg       0.40      0.50      0.44         5\n",
      "weighted avg       0.64      0.80      0.71         5\n",
      "\n"
     ]
    }
   ],
   "source": [
    "import pandas as pd\n",
    "import numpy as np\n",
    "from sklearn.model_selection import train_test_split\n",
    "from sklearn.linear_model import LogisticRegression\n",
    "from sklearn.metrics import accuracy_score\n",
    "from sklearn.preprocessing import StandardScaler\n",
    "import seaborn as sns\n",
    "\n",
    "import warnings\n",
    "# Игнорировать все предупреждения\n",
    "warnings.filterwarnings('ignore')\n",
    "\n",
    "\n",
    "from sklearn.metrics import classification_report, confusion_matrix\n",
    "\n",
    "# Загрузка датасета Titanic\n",
    "titanic = sns.load_dataset('titanic')\n",
    "\n",
    "# Фильтрация данных для пассажиров возрастом 25 лет\n",
    "titanic_25 = titanic[titanic['age'] == 25]\n",
    "\n",
    "# Подготовка данных: выбор признаков и целевой переменной\n",
    "X = titanic_25[['pclass', 'sex', 'embarked', 'fare']].dropna()\n",
    "y = titanic_25['survived']\n",
    "\n",
    "# Преобразование категориальных переменных в числовые\n",
    "X['sex'] = X['sex'].map({'male': 0, 'female': 1})\n",
    "X['embarked'] = X['embarked'].map({'S': 0, 'C': 1, 'Q': 2})\n",
    "#X['alone'] = X['alone'].map({False: 0, True: 1})\n",
    "\n",
    "# Стандартизация признаков\n",
    "scaler = StandardScaler()\n",
    "X_scaled = scaler.fit_transform(X)\n",
    "\n",
    "# Разделение данных на обучающую и тестовую выборки\n",
    "X_train, X_test, y_train, y_test = train_test_split(X_scaled, y, test_size=0.2, random_state=42)\n",
    "\n",
    "# Построение и обучение модели\n",
    "model = LogisticRegression()\n",
    "model.fit(X_train, y_train)\n",
    "\n",
    "# Предсказание на тестовых данных\n",
    "y_pred = model.predict(X_test)\n",
    "\n",
    "# Оценка модели\n",
    "accuracy = accuracy_score(y_test, y_pred)\n",
    "print(f\"Accuracy: {accuracy}\")\n",
    "\n",
    "print(classification_report(y_test, y_pred))"
   ]
  },
  {
   "cell_type": "code",
   "execution_count": null,
   "metadata": {},
   "outputs": [],
   "source": []
  },
  {
   "cell_type": "markdown",
   "metadata": {},
   "source": [
    "#### Задание 1. Загрузить данные из dataset \"Титаник\" "
   ]
  },
  {
   "cell_type": "code",
   "execution_count": null,
   "metadata": {},
   "outputs": [],
   "source": []
  },
  {
   "cell_type": "markdown",
   "metadata": {},
   "source": [
    "#### Задание 2. Произвести предобработку данных dataset \"Титаник\" и сохранить результаты каждый в отдельный датафрейм\n",
    "1. Удалить все путые заначения и сохранить результаты в датафрейм df_del\n",
    "2. Замена на конкретное значение все путые  и сохранить результаты в датафрейм df_num\n",
    "3. Заменить все путые заначения на среднее значение и сохранить результаты в датафрейм df_means\n",
    "4. Заменить все путые заначения на медеанные значение и сохранить результаты в датафрейм df_medians\n",
    "5. Замена на предыдущее или следующее значение и сохранить результаты в датафрейм df_fb_fill"
   ]
  },
  {
   "cell_type": "code",
   "execution_count": null,
   "metadata": {},
   "outputs": [],
   "source": []
  },
  {
   "cell_type": "markdown",
   "metadata": {},
   "source": [
    "#### Задание 3. Приметить к каждому датафрейму алгоритм логистической регресси"
   ]
  },
  {
   "cell_type": "code",
   "execution_count": null,
   "metadata": {},
   "outputs": [],
   "source": []
  },
  {
   "cell_type": "markdown",
   "metadata": {},
   "source": [
    "#### Задание 4. Произвести оценку обученности модели разными метриками\n",
    "1. accuracy\n",
    "2. recall\n",
    "3. Precision \n",
    "4. F1-Score"
   ]
  },
  {
   "cell_type": "code",
   "execution_count": null,
   "metadata": {},
   "outputs": [],
   "source": []
  },
  {
   "cell_type": "markdown",
   "metadata": {},
   "source": [
    "#### Задание 5. Определить наиболее эффективную метрику\n"
   ]
  },
  {
   "cell_type": "code",
   "execution_count": null,
   "metadata": {},
   "outputs": [],
   "source": []
  },
  {
   "cell_type": "markdown",
   "metadata": {},
   "source": [
    "#### Задание 6. Загрузить ваш dataset и произвести его описание\n",
    "\n"
   ]
  },
  {
   "cell_type": "code",
   "execution_count": null,
   "metadata": {},
   "outputs": [],
   "source": []
  },
  {
   "cell_type": "markdown",
   "metadata": {},
   "source": [
    "#### Задание 7. Произвести предобработку вашего dataset  и сохранить результаты каждый в отдельный датафрейм\n",
    "1. Удалить все путые заначения и сохранить результаты в датафрейм mydf_del\n",
    "2. Замена на конкретное значение все путые  и сохранить результаты в датафрейм mydf_num\n",
    "3. Заменить все путые заначения на среднее значение и сохранить результаты в датафрейм mydf_means\n",
    "4. Заменить все путые заначения на медеанные значение и сохранить результаты в датафрейм mydf_medians\n",
    "5. Замена на предыдущее или следующее значение и сохранить результаты в датафрейм mydf_fb_fill\n"
   ]
  },
  {
   "cell_type": "code",
   "execution_count": null,
   "metadata": {},
   "outputs": [],
   "source": []
  },
  {
   "cell_type": "markdown",
   "metadata": {},
   "source": [
    "#### Задание 8. Приметить к каждому датафрейму алгоритм линейной регресси"
   ]
  },
  {
   "cell_type": "code",
   "execution_count": null,
   "metadata": {},
   "outputs": [],
   "source": []
  },
  {
   "cell_type": "markdown",
   "metadata": {},
   "source": [
    "#### Задание 9. Произвести оценку обученности модели разными метриками\n",
    "1. accuracy\n",
    "2. recall\n",
    "3. Precision \n",
    "4. F1-Score"
   ]
  },
  {
   "cell_type": "code",
   "execution_count": null,
   "metadata": {},
   "outputs": [],
   "source": []
  },
  {
   "cell_type": "markdown",
   "metadata": {},
   "source": [
    "#### Задание 9. Произвести оценку обученности модели разными метриками\n",
    "1. accuracy\n",
    "2. recall\n",
    "3. Precision \n",
    "4. F1-Score\n"
   ]
  },
  {
   "cell_type": "code",
   "execution_count": null,
   "metadata": {},
   "outputs": [],
   "source": []
  },
  {
   "cell_type": "markdown",
   "metadata": {},
   "source": [
    "#### Задание 10. Определить наиболее эффективную метрику"
   ]
  },
  {
   "cell_type": "code",
   "execution_count": null,
   "metadata": {},
   "outputs": [],
   "source": []
  }
 ],
 "metadata": {
  "kernelspec": {
   "display_name": "Python 3",
   "language": "python",
   "name": "python3"
  },
  "language_info": {
   "codemirror_mode": {
    "name": "ipython",
    "version": 3
   },
   "file_extension": ".py",
   "mimetype": "text/x-python",
   "name": "python",
   "nbconvert_exporter": "python",
   "pygments_lexer": "ipython3",
   "version": "3.8.5"
  }
 },
 "nbformat": 4,
 "nbformat_minor": 4
}
